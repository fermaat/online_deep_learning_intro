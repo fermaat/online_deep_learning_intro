{
 "cells": [
  {
   "cell_type": "markdown",
   "metadata": {},
   "source": [
    "# Neural Network from scratch\n",
    "\n",
    "In this notebook we will learn how to build a neural network from scratch, implementing the forward and the backward propagation and training it on the MNIST dataset"
   ]
  },
  {
   "cell_type": "code",
   "execution_count": 1,
   "metadata": {},
   "outputs": [],
   "source": [
    "import pandas as pd\n",
    "import matplotlib.pyplot as plt\n",
    "from sklearn.datasets import load_digits\n",
    "from sklearn.model_selection import train_test_split\n"
   ]
  },
  {
   "cell_type": "markdown",
   "metadata": {},
   "source": [
    "# Preprocessing\n",
    "We will cover this dataset further in future practises, but let's take a look at it:"
   ]
  },
  {
   "cell_type": "code",
   "execution_count": 39,
   "metadata": {},
   "outputs": [
    {
     "data": {
      "text/plain": [
       "<matplotlib.image.AxesImage at 0x7f2a672a4400>"
      ]
     },
     "execution_count": 39,
     "metadata": {},
     "output_type": "execute_result"
    },
    {
     "data": {
      "text/plain": [
       "<Figure size 432x288 with 0 Axes>"
      ]
     },
     "metadata": {},
     "output_type": "display_data"
    },
    {
     "data": {
      "image/png": "[encoded data removed]",
      "text/plain": [
       "<Figure size 288x288 with 1 Axes>"
      ]
     },
     "metadata": {
      "needs_background": "light"
     },
     "output_type": "display_data"
    }
   ],
   "source": [
    "%matplotlib inline\n",
    "dig = load_digits()\n",
    "plt.gray()\n",
    "plt.matshow(dig.images[25])"
   ]
  },
  {
   "cell_type": "markdown",
   "metadata": {},
   "source": [
    "Simple train/test split with one hot features on the target"
   ]
  },
  {
   "cell_type": "code",
   "execution_count": 40,
   "metadata": {},
   "outputs": [],
   "source": [
    "onehot_target = pd.get_dummies(dig.target)\n",
    "x_train, x_val, y_train, y_val = train_test_split(dig.data, onehot_target, test_size=0.1, random_state=20)"
   ]
  },
  {
   "cell_type": "markdown",
   "metadata": {},
   "source": [
    "## Architechture and basic operations\n",
    "We willl cover the base of the network, which will be a [128, 128, 10] fully connected network, including all the weights for each layer and its biases.\n",
    "\n",
    "**Finish implementing the basic architechture**\n",
    "\n",
    "*Weight matrixes can be initialized with rnp.random.randn, while biases could be initialised with zeros (np.zeros). Keep in mind dimensions*"
   ]
  },
  {
   "cell_type": "code",
   "execution_count": 41,
   "metadata": {},
   "outputs": [],
   "source": [
    "import numpy as np\n",
    "class MyNN:\n",
    "    def __init__(self, x, y):\n",
    "        self.input = x\n",
    "        self.target = np.array(y)\n",
    "        neurons = 128       # neurons for hidden layers\n",
    "        self.lr = 0.5       # user defined learning rate\n",
    "        ip_dim = x.shape[1] # input layer size\n",
    "        op_dim = y.shape[1] # output layer size \n",
    "        self.w1 = ...\n",
    "        self.b1 = ...\n",
    "        self.w2 = ...\n",
    "        self.b2 = ...\n",
    "        self.w3 = ...\n",
    "        self.b3 = ..."
   ]
  },
  {
   "cell_type": "markdown",
   "metadata": {},
   "source": [
    "### Activations definition"
   ]
  },
  {
   "cell_type": "code",
   "execution_count": 43,
   "metadata": {},
   "outputs": [],
   "source": [
    "def sigmoid(s):\n",
    "    return 1/(1 + np.exp(-s))# for numerical stability, values are normalised\n",
    "def softmax(s):\n",
    "    exps = np.exp(s - np.max(s, axis=1, keepdims=True))\n",
    "    return exps/np.sum(exps, axis=1, keepdims=True)"
   ]
  },
  {
   "cell_type": "markdown",
   "metadata": {},
   "source": [
    "# Feedforward and backward implementation\n",
    "On this section we will implement both the forward and the backward passes.\n",
    "## Forwad prop\n",
    "For the forward pass, these are the feed forward equations:\n",
    "$$ z1 = x\\cdot w1+b1$$\n",
    "$$ a1 = \\sigma(z1)$$ \n",
    "$$ z2 = a1\\cdot w2+b2$$\n",
    "$$ a2 = \\sigma(z2)$$\n",
    "$$ z3 = a2\\cdot w3+b3$$\n",
    "$$ a3 = softmax(z3)$$\n",
    "\n",
    "**Implement a methof for the forward pass**\n",
    "\n",
    "*Use np.dot for the matrix product. Keep in mind our activations will be mainly sigmoid and a softmax in the end*\n"
   ]
  },
  {
   "cell_type": "code",
   "execution_count": 44,
   "metadata": {},
   "outputs": [],
   "source": [
    "class MyNN:\n",
    "    def __init__(self, x, y):\n",
    "        self.input = x\n",
    "        self.target = np.array(y)\n",
    "        neurons = 128       # neurons for hidden layers\n",
    "        self.lr = 0.5       # user defined learning rate\n",
    "        ip_dim = x.shape[1] # input layer size\n",
    "        op_dim = y.shape[1] # output layer size \n",
    "        self.w1 = ...\n",
    "        self.b1 = ...\n",
    "        self.w2 = ...\n",
    "        self.b2 = ...\n",
    "        self.w3 = ...\n",
    "        self.b3 = ...\n",
    "\n",
    "    def feedforward(self):\n",
    "        z1 = ...\n",
    "        self.a1 = ...\n",
    "        z2 = ...\n",
    "        self.a2 = ...\n",
    "        z3 = ...\n",
    "        self.a3 = ..."
   ]
  },
  {
   "cell_type": "code",
   "execution_count": 64,
   "metadata": {},
   "outputs": [
    {
     "data": {
      "text/plain": [
       "True"
      ]
     },
     "execution_count": 64,
     "metadata": {},
     "output_type": "execute_result"
    }
   ],
   "source": [
    "# check\n",
    "np.random.seed(0)\n",
    "model = MyNN(x_train, y_train)\n",
    "model.feedforward()\n",
    "epsilon = 1e-5\n",
    "np.max (model.a3[0] - np.array([1.49799065e-09, 6.42638933e-06, 4.51090759e-11, 3.39927186e-05,\n",
    "       7.78156672e-06, 7.53979236e-07, 7.12601701e-08, 7.56422143e-14,\n",
    "       9.99950963e-01, 9.48625185e-09])) < epsilon"
   ]
  },
  {
   "cell_type": "markdown",
   "metadata": {},
   "source": [
    "## Backward propagation\n",
    "### Chain — rule:\n",
    "\n",
    "Let us consider the cost function as c, From the feed forward, we know that\n",
    "\n",
    "$$z = xw + b                 ==> z = function(w)$$\n",
    "\n",
    "$$a = activation(z)  ==> a = function(z)$$\n",
    "\n",
    "$$c = -(y*log(a))           ==> c = function(a)$$\n",
    "\n",
    "Thus, from the output all we have to do is find the error and how much does each weights influences the output. In other words, find the derivative of cost function w.r.t w3. Yes, Back propagation is nothing but calculation of derivatives using chain rule.\n",
    "\n",
    "###  Outer layer\n",
    "$$\\frac{dc}{dw3} = \\frac{dc}{da3}\\cdot \\frac{da3}{dz3}\\cdot \\frac{dz3}{dw3}$$ \n",
    "\n",
    "$$z3 = a2w3 + b3$$\n",
    "$$a3 = softmax(z3)$$\n",
    "\n",
    "$$\\frac{dz3}{dw3} = a2$$\n",
    "\n",
    "$$\\frac{da3}{dz3} = \\frac{d softmax(z3)}{d z3}$$\n",
    "\n",
    "Surprisingly, as cross-entropy is often used with softmax activation function, we do not really have to compute both of these derivatives. Because, some of the parts of these derivatives cancel each other as clearly explained [here](https://deepnotes.io/softmax-crossentropy). Thus, predicted value — real value is the result of their product.\n",
    "\n",
    "$$\\frac{dc}{da3}  = \\frac{d c}{d a3} = \\frac{-y}{a3}$$"
   ]
  },
  {
   "cell_type": "markdown",
   "metadata": {},
   "source": [
    "Let, $a3_\\delta$ be the product of these terms as it will be needed in the upcoming chain rules.\n",
    "$$ a3_\\delta = \\frac{dc}{da3}\\cdot\\frac{da3}{dz3} $$\n",
    "Thus, $a3_\\delta = a3-y$ (the error to be propagated)\n",
    "$$ \\frac{dc}{dw3} = (a3 - y) \\cdot a2$$\n",
    "$$ \\text{Update: }w3 := w3 - \\frac{dc}{dw3}$$\n",
    "For changes in biases,\n",
    "$$ \\frac{dc}{db3} = \\frac{dc}{da3}\\cdot \\frac{da3}{dz3}\\cdot \\frac{dz3}{db3} $$\n",
    "$\\frac{dz3}{db3} = 1$ . Rest is already calculated:\n",
    "$ b3 = b3 - \\frac{dc}{db3} => \\text{Update: } b3 := b3 - a3_\\delta$"
   ]
  },
  {
   "cell_type": "markdown",
   "metadata": {},
   "source": [
    "### Hidden layers:\n",
    "\n",
    "In hidden layers, the partial derivative of cost function w.r.t hidden layers will also follow a chain rule, since cost function is a function of outer layer.\n",
    "\n",
    "$$z2 = a1w2 + b2$$\n",
    "$$ a2 = sigmoid(z2)$$\n",
    "$$ \\frac{dc}{dw2}  =   \\frac{dc}{da2} \\cdot \\frac{da2}{dz2}\\cdot \\frac{dz2}{dw2}$$\n",
    "$$ \\frac{dz2}{dw2}= a1$$\n",
    "$$ \\frac{da2}{dz2} = \\sigma ' (z2)$$\n",
    "$$ \\frac{dc}{da2} = \\frac{dc}{da3}\\cdot \\frac{da3}{dz3}\\cdot \\frac{dz3}{da2} => \\frac{dc}{da2} = a3_\\delta \\cdot w3 $$\n",
    "$$ \\text{Update: } w2 := w2 - \\frac{dc}{dw2}$$\n",
    "$$ \\text{and set } a2_\\delta = \\frac{dc}{da2} \\cdot \\frac{da2}{dz2}$$\n",
    "$$ \\frac{dc}{db2}= \\frac{dc}{da2}\\cdot \\frac{da2}{dz2}\\cdot \\frac{dz2}{db2} $$\n",
    "$$ \\frac{dz2}{db2} = 1; \\text{Update: } b2 := b2 - dc/db2 => b2 := b2 - a2_\\delta$$\n",
    "Similarly for w1 and b1.\n",
    "\n",
    "\n",
    "\n"
   ]
  },
  {
   "cell_type": "markdown",
   "metadata": {},
   "source": [
    "### Back propagation equations:\n",
    "$$ a3_\\delta = a3-y $$ \n",
    "$$ z2_\\delta = a3_\\delta\\cdot w3^T$$\n",
    "$$ a2_\\delta = z2_\\delta\\cdot \\sigma '(a2)$$\n",
    "$$ z1_\\delta = a2_\\delta\\cdot w2^T$$\n",
    "$$ a1_\\delta = z1_\\delta\\cdot\\sigma '(a1)$$\n",
    "\n",
    "**Implement a method for the backpropagation**\n",
    "\n",
    "*You can use the implemented functions for sigmoid derivative and error computation.*"
   ]
  },
  {
   "cell_type": "code",
   "execution_count": 65,
   "metadata": {},
   "outputs": [],
   "source": [
    "def sigmoid_derv(s):\n",
    "    return s * (1 - s)\n",
    "def error(pred, real):\n",
    "    n_samples = real.shape[0]\n",
    "    res = pred - real\n",
    "    return res/n_samples\n"
   ]
  },
  {
   "cell_type": "code",
   "execution_count": null,
   "metadata": {},
   "outputs": [],
   "source": [
    "class MyNN:\n",
    "    def __init__(self, x, y):\n",
    "        self.input = x\n",
    "        self.target = np.array(y)\n",
    "        neurons = 128       # neurons for hidden layers\n",
    "        self.lr = 0.5       # user defined learning rate\n",
    "        ip_dim = x.shape[1] # input layer size\n",
    "        op_dim = y.shape[1] # output layer size \n",
    "        self.w1 = ...\n",
    "        self.b1 = ...\n",
    "        self.w2 = ...\n",
    "        self.b2 = ...\n",
    "        self.w3 = ...\n",
    "        self.b3 = ...\n",
    "\n",
    "    def feedforward(self):\n",
    "        z1 = ...\n",
    "        self.a1 = ...\n",
    "        z2 = ...\n",
    "        self.a2 = ...\n",
    "        z3 = ...\n",
    "        self.a3 = ...\n",
    "\n",
    "    def backprop(self):\n",
    "        a3_delta = ...\n",
    "        z2_delta = ...\n",
    "        a2_delta = ...\n",
    "        z1_delta = ...\n",
    "        a1_delta = ...\n",
    "        return a1_delta"
   ]
  },
  {
   "cell_type": "code",
   "execution_count": 75,
   "metadata": {},
   "outputs": [
    {
     "data": {
      "text/plain": [
       "True"
      ]
     },
     "execution_count": 75,
     "metadata": {},
     "output_type": "execute_result"
    }
   ],
   "source": [
    "# check\n",
    "np.random.seed(0)\n",
    "model = MyNN(x_train, y_train)\n",
    "model.feedforward()\n",
    "np.max (model.backprop()[0] - np.array([ 6.92440369e-12, -3.66641945e-42, -1.25395442e-09,  3.93615869e-12,\n",
    "       -4.97931120e-23, -1.85093629e-64,  0.00000000e+00,  3.23685646e-24,\n",
    "       -5.45518366e-32,  0.00000000e+00, -0.00000000e+00, -7.54331820e-09,\n",
    "       -3.73586429e-19,  1.50686055e-63,  0.00000000e+00, -4.79315252e-19,\n",
    "       -2.54916838e-10, -1.35810376e-09,  1.94242534e-25,  0.00000000e+00,\n",
    "        5.17322826e-34,  8.81966807e-06, -8.59520406e-05, -1.39608578e-04,\n",
    "       -0.00000000e+00,  5.27884470e-39, -2.96384906e-42,  5.30508535e-17,\n",
    "       -0.00000000e+00,  4.32544729e-31, -3.53209368e-17, -5.56179839e-20,\n",
    "        4.88313935e-32, -6.76705842e-08,  0.00000000e+00,  3.52885333e-11,\n",
    "       -9.36113810e-28,  0.00000000e+00,  1.10918779e-29, -6.11964244e-10,\n",
    "       -0.00000000e+00, -0.00000000e+00,  0.00000000e+00, -1.12098629e-14,\n",
    "        5.21673593e-36,  0.00000000e+00,  0.00000000e+00,  1.87388028e-55,\n",
    "        5.77760552e-13,  3.73529444e-13, -5.35449680e-21, -0.00000000e+00,\n",
    "        0.00000000e+00,  0.00000000e+00, -5.50503173e-12,  1.53023520e-09,\n",
    "        2.58805646e-29, -1.21673827e-08, -0.00000000e+00,  3.46664501e-17,\n",
    "        4.13698326e-29, -0.00000000e+00, -2.49447056e-12,  0.00000000e+00,\n",
    "        3.03057778e-17,  0.00000000e+00,  6.10754324e-16,  0.00000000e+00,\n",
    "       -0.00000000e+00,  0.00000000e+00, -4.36812227e-06, -0.00000000e+00,\n",
    "       -2.60380528e-10, -2.09547818e-05, -0.00000000e+00,  0.00000000e+00,\n",
    "       -3.22357991e-48,  9.75311266e-52, -1.24217411e-14, -1.60570557e-05,\n",
    "        1.14243867e-26,  0.00000000e+00, -2.18627776e-31,  9.46194493e-37,\n",
    "       -1.29093851e-36, -6.31138244e-26,  1.87196067e-51, -3.22749984e-20,\n",
    "       -1.12301137e-23, -1.07727191e-15,  3.18798435e-14, -7.17992952e-10,\n",
    "       -2.33406393e-41, -1.46456277e-13,  9.58206251e-21,  4.14870581e-60,\n",
    "        6.24451994e-21, -1.03407652e-14,  1.25867936e-29,  3.04082209e-19,\n",
    "       -0.00000000e+00,  8.20891326e-33,  2.06647354e-16, -0.00000000e+00,\n",
    "        5.52075138e-34,  0.00000000e+00, -0.00000000e+00, -8.89175016e-10,\n",
    "        3.00779906e-11, -0.00000000e+00, -2.70979552e-16,  0.00000000e+00,\n",
    "        0.00000000e+00, -3.08725438e-32, -9.43289939e-21, -7.52646867e-16,\n",
    "       -5.58410094e-16, -0.00000000e+00,  2.76331231e-61, -1.52627365e-69,\n",
    "       -6.77206286e-10,  8.15621692e-13,  1.78175086e-43,  0.00000000e+00,\n",
    "        6.12727266e-29, -7.87530664e-05, -1.52532862e-41, -2.76926091e-25])) < epsilon\n"
   ]
  },
  {
   "cell_type": "markdown",
   "metadata": {},
   "source": [
    "###  Loss: Cross Entropy\n",
    "We will use cross entropy for the loss computation:\n",
    "$$\\mathcal{L} = - \\frac{1}{n}\\cdot\\sum y_i\\cdot log(\\widehat{y_i})$$"
   ]
  },
  {
   "cell_type": "code",
   "execution_count": 7,
   "metadata": {},
   "outputs": [],
   "source": [
    "def cross_entropy(pred, real):\n",
    "    n_samples = real.shape[0]\n",
    "    logp = - np.log(pred[np.arange(n_samples), real.argmax(axis=1)])\n",
    "    loss = np.sum(logp)/n_samples\n",
    "    return loss\n"
   ]
  },
  {
   "cell_type": "markdown",
   "metadata": {},
   "source": [
    "### Updates\n",
    "On each pass, the weight and biases need to be updated. **Add the update inside the backprop method. Add a predict method**"
   ]
  },
  {
   "cell_type": "code",
   "execution_count": null,
   "metadata": {},
   "outputs": [],
   "source": [
    "class MyNN:\n",
    "    def __init__(self, x, y):\n",
    "        self.input = x\n",
    "        self.target = np.array(y)\n",
    "        neurons = 128       # neurons for hidden layers\n",
    "        self.lr = 0.5       # user defined learning rate\n",
    "        ip_dim = x.shape[1] # input layer size\n",
    "        op_dim = y.shape[1] # output layer size \n",
    "        self.w1 = ...\n",
    "        self.b1 = ...\n",
    "        self.w2 = ...\n",
    "        self.b2 = ...\n",
    "        self.w3 = ...\n",
    "        self.b3 = ...\n",
    "\n",
    "    def feedforward(self):\n",
    "        z1 = ...\n",
    "        self.a1 = ...\n",
    "        z2 = ...\n",
    "        self.a2 = ...\n",
    "        z3 = ...\n",
    "        self.a3 = ...\n",
    "    def predict(self, data):\n",
    "        self.input = data\n",
    "        ...\n",
    "\n",
    "    def backprop(self):\n",
    "        a3_delta = ...\n",
    "        z2_delta = ...\n",
    "        a2_delta = ...\n",
    "        z1_delta = ...\n",
    "        a1_delta = ...\n",
    "        self.w3 -= ...\n",
    "        self.b3 -= ...\n",
    "        self.w2 -= ...\n",
    "        self.b2 -= ...\n",
    "        self.w1 -= ...\n",
    "        self.b1 -= ..."
   ]
  },
  {
   "cell_type": "code",
   "execution_count": 86,
   "metadata": {},
   "outputs": [
    {
     "data": {
      "text/plain": [
       "True"
      ]
     },
     "execution_count": 86,
     "metadata": {},
     "output_type": "execute_result"
    }
   ],
   "source": [
    "# check\n",
    "np.random.seed(0)\n",
    "model = MyNN(x_train, y_train)\n",
    "model.feedforward()\n",
    "model.backprop()\n",
    "np.max (model.w1[0] - np.array([ 1.76405235,  0.40015721,  0.97873798,  2.2408932 ,  1.86755799,\n",
    "       -0.97727788,  0.95008842, -0.15135721, -0.10321885,  0.4105985 ,\n",
    "        0.14404357,  1.45427351,  0.76103773,  0.12167502,  0.44386323,\n",
    "        0.33367433,  1.49407907, -0.20515826,  0.3130677 , -0.85409574,\n",
    "       -2.55298982,  0.6536186 ,  0.8644362 , -0.74216502,  2.26975462,\n",
    "       -1.45436567,  0.04575852, -0.18718385,  1.53277921,  1.46935877,\n",
    "        0.15494743,  0.37816252, -0.88778575, -1.98079647, -0.34791215,\n",
    "        0.15634897,  1.23029068,  1.20237985, -0.38732682, -0.30230275,\n",
    "       -1.04855297, -1.42001794, -1.70627019,  1.9507754 , -0.50965218,\n",
    "       -0.4380743 , -1.25279536,  0.77749036, -1.61389785, -0.21274028,\n",
    "       -0.89546656,  0.3869025 , -0.51080514, -1.18063218, -0.02818223,\n",
    "        0.42833187,  0.06651722,  0.3024719 , -0.63432209, -0.36274117,\n",
    "       -0.67246045, -0.35955316, -0.81314628, -1.7262826 ,  0.17742614,\n",
    "       -0.40178094, -1.63019835,  0.46278226, -0.90729836,  0.0519454 ,\n",
    "        0.72909056,  0.12898291,  1.13940068, -1.23482582,  0.40234164,\n",
    "       -0.68481009, -0.87079715, -0.57884966, -0.31155253,  0.05616534,\n",
    "       -1.16514984,  0.90082649,  0.46566244, -1.53624369,  1.48825219,\n",
    "        1.89588918,  1.17877957, -0.17992484, -1.07075262,  1.05445173,\n",
    "       -0.40317695,  1.22244507,  0.20827498,  0.97663904,  0.3563664 ,\n",
    "        0.70657317,  0.01050002,  1.78587049,  0.12691209,  0.40198936,\n",
    "        1.8831507 , -1.34775906, -1.270485  ,  0.96939671, -1.17312341,\n",
    "        1.94362119, -0.41361898, -0.74745481,  1.92294203,  1.48051479,\n",
    "        1.86755896,  0.90604466, -0.86122569,  1.91006495, -0.26800337,\n",
    "        0.8024564 ,  0.94725197, -0.15501009,  0.61407937,  0.92220667,\n",
    "        0.37642553, -1.09940079,  0.29823817,  1.3263859 , -0.69456786,\n",
    "       -0.14963454, -0.43515355,  1.84926373])) < epsilon"
   ]
  },
  {
   "cell_type": "markdown",
   "metadata": {},
   "source": [
    "### Fit loop\n",
    "Finally, we will train our neural network. After defining the NN, for each epoch we will:\n",
    "    - Forwaard pass\n",
    "    - Evaluate perf (use accuracy implemented function)\n",
    "    - Backward pass\n",
    "    \n",
    "**Implement the fit loop**\n",
    "\n",
    "*Please remember to evaluate first validation and then training due to nn implementation on data*"
   ]
  },
  {
   "cell_type": "code",
   "execution_count": 87,
   "metadata": {},
   "outputs": [],
   "source": [
    "from sklearn.metrics import accuracy_score\n",
    "\n",
    "def evaluate_accuracy(y, y_hat):\n",
    "    return accuracy_score(y_hat, y.apply (lambda x: np.argmax(x), axis = 1).values)\n",
    "\n",
    "num_epochs = 30\n",
    "for j in range(num_epochs): \n",
    "    ...\n",
    "    val_acc = ...\n",
    "    train_acc = ...\n",
    "    ..."
   ]
  },
  {
   "cell_type": "code",
   "execution_count": null,
   "metadata": {},
   "outputs": [],
   "source": []
  }
 ],
 "metadata": {
  "kernelspec": {
   "display_name": "dl_tf2",
   "language": "python",
   "name": "dl_tf2"
  },
  "language_info": {
   "codemirror_mode": {
    "name": "ipython",
    "version": 3
   },
   "file_extension": ".py",
   "mimetype": "text/x-python",
   "name": "python",
   "nbconvert_exporter": "python",
   "pygments_lexer": "ipython3",
   "version": "3.6.9"
  }
 },
 "nbformat": 4,
 "nbformat_minor": 2
}
