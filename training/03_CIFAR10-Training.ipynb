{
 "cells": [
  {
   "cell_type": "markdown",
   "metadata": {},
   "source": [
    "# CNN study case: train on Cifar10.\n",
    "\n",
    "On this notebook we will cover the training of a simple model on the CIFAR 10 dataset, and we will cover the next topics:\n",
    "- Cifar10 dataset\n",
    "- Model architecture: \n",
    "    - 2D Convolutional layers\n",
    "    - MaxPooling\n",
    "    - Relu activation\n",
    "    - Batch normalization\n",
    "- Image generator data augmentation\n",
    "- TTA (Test time augmentation)\n",
    "### The dataset"
   ]
  },
  {
   "cell_type": "markdown",
   "metadata": {},
   "source": [
    "The dataset is composed by 60000 32x32 colour images in 10 classes, with 6000 images per class. There are 50000 training images and 10000 test images. These are the image classes:\n",
    "- airplane \n",
    "- automobile \n",
    "- bird\n",
    "- cat\n",
    "- deer\n",
    "- dog\n",
    "- frog\n",
    "- horse\n",
    "- ship\n",
    "- truck"
   ]
  },
  {
   "cell_type": "code",
   "execution_count": 1,
   "metadata": {},
   "outputs": [
    {
     "name": "stderr",
     "output_type": "stream",
     "text": [
      "/usr/local/lib/python3.5/dist-packages/h5py/__init__.py:36: FutureWarning: Conversion of the second argument of issubdtype from `float` to `np.floating` is deprecated. In future, it will be treated as `np.float64 == np.dtype(float).type`.\n",
      "  from ._conv import register_converters as _register_converters\n",
      "Using TensorFlow backend.\n"
     ]
    },
    {
     "data": {
      "text/plain": [
       "(32, 32, 3)"
      ]
     },
     "execution_count": 1,
     "metadata": {},
     "output_type": "execute_result"
    }
   ],
   "source": [
    "import os\n",
    "os.environ['TF_CPP_MIN_LOG_LEVEL'] = '3'\n",
    "\n",
    "import tensorflow as tf\n",
    "tf.get_logger().setLevel('ERROR')\n",
    "physical_devices = tf.config.experimental.list_physical_devices('GPU')\n",
    "tf.config.experimental.set_memory_growth(physical_devices[0], True)\n",
    "\n",
    "tf.keras.backend.clear_session()  \n",
    "\n",
    "from tensorflow.keras.datasets.cifar10 import load_data\n",
    "from tensorflow.keras.utils import to_categorical\n",
    "\n",
    "(trainX, trainY), (testX, testY) = load_data()\n",
    "# normalize pixel values\n",
    "trainX = trainX.astype('float32') / 255\n",
    "testX = testX.astype('float32') / 255\n",
    "# one hot encode target values\n",
    "trainY = to_categorical(trainY)\n",
    "testY = to_categorical(testY)\n",
    "trainX[0].shape"
   ]
  },
  {
   "cell_type": "markdown",
   "metadata": {},
   "source": [
    "<font color=red><b>Plot some examples of the dataset.\n",
    "<br>Hint: use the imshow function of the pyplot package</b>\n",
    "</font>"
   ]
  },
  {
   "cell_type": "code",
   "execution_count": null,
   "metadata": {},
   "outputs": [],
   "source": [
    "from matplotlib import pyplot as plt\n",
    "%matplotlib inline\n",
    "for j in range (10):\n",
    "    ...\n",
    "    plt.show()"
   ]
  },
  {
   "cell_type": "code",
   "execution_count": 6,
   "metadata": {},
   "outputs": [],
   "source": [
    "from tensorflow.keras.models import Sequential\n",
    "from tensorflow.keras.layers import Conv2D\n",
    "from tensorflow.keras.layers import MaxPooling2D\n",
    "from tensorflow.keras.layers import Dense\n",
    "from tensorflow.keras.layers import Flatten\n",
    "from tensorflow.keras.layers import BatchNormalization\n",
    "from numpy import mean\n",
    "from numpy import std"
   ]
  },
  {
   "cell_type": "markdown",
   "metadata": {},
   "source": [
    "## Model Architecture\n",
    "Build the CNN model to be trained train on the data, on this config:\n",
    "- Conv2d layer, with 32 units and 3x3 filter, with relu activation and padding of \"same\" type. Use the \"he_uniform\" initializer.\n",
    "- batchnorm\n",
    "- max pooling (2x2)\n",
    "- Conv2d layer, with 64 units and 3x3 filter, with relu activation and padding of \"same\" type. Use the \"he_uniform\" initializer.\n",
    "- batchnorm\n",
    "- max pooling (2x2)\n",
    "- Dense layer, with 128 units\n",
    "- Dense softmax layer\n",
    "- On compilation, use adam as the optimizer and categorical_crossentropy as the loss function. Add 'accuracy' as a metric\n",
    "- Print the summary\n",
    "\n",
    "\n",
    "<font color=red><b>Remember to initialize it propperly and to include input_shape on the first layer. <br> Hint: \n",
    "- Use the imported libraries</b></font>"
   ]
  },
  {
   "cell_type": "code",
   "execution_count": null,
   "metadata": {},
   "outputs": [],
   "source": [
    "def define_model():\n",
    "    # define model\n",
    "    model = Sequential()\n",
    "    model.add(Conv2D(32, (3, 3), activation='relu', padding='same', kernel_initializer='he_uniform', input_shape=(32, 32, 3)))\n",
    "    ...\n",
    "    model.add(Dense(10, activation='softmax'))\n",
    "    # compile model\n",
    "    ...\n",
    "    return model"
   ]
  },
  {
   "cell_type": "markdown",
   "metadata": {},
   "source": [
    "We are going to train small steps of our model in order to evaluate the hyperparameters and the strategy. In order to do that, we will define a step epochs number and will train and evaluate the model for that amount of epochs. after a number of repeats we will reduce the effect random initialization of certain parameters.\n",
    "\n",
    "<font color=red>Evaluate the built model by training 10 times on different initializations<b> Hint: we would like to have some parameters of the score distribution, like the ones imported  </b></font>"
   ]
  },
  {
   "cell_type": "code",
   "execution_count": null,
   "metadata": {},
   "outputs": [],
   "source": [
    "step_epochs = 3\n",
    "batch_size = 128\n",
    "\n",
    "def evaluate_model(model, trainX, trainY, testX, testY):\n",
    "    # fit model\n",
    "    model.fit(trainX, trainY, epochs=step_epochs, batch_size=batch_size, verbose=0)\n",
    "    # evaluate model\n",
    "    _, acc = model.evaluate(testX, testY, verbose=0)\n",
    "    return acc\n",
    "\n",
    "\n",
    "def evaluate(trainX, trainY, testX, testY, repeats=10):\n",
    "    scores = list()\n",
    "    for _ in range(repeats):\n",
    "        # define model\n",
    "        model = define_model()\n",
    "        # fit and evaluate model\n",
    "        accuracy = evaluate_model(model, trainX, trainY, testX, testY)\n",
    "        # store score\n",
    "        scores.append(accuracy)\n",
    "        print('> %.3f' % accuracy)\n",
    "    return scores\n",
    "\n",
    "\n",
    "# evaluate model\n",
    "scores = ...\n",
    "# summarize result\n",
    "..."
   ]
  },
  {
   "cell_type": "markdown",
   "metadata": {},
   "source": [
    "### Keras Image data generator\n",
    "In order to perform some data augmentation, Keras includes the Image data generator, which can be used to improve performance and reduce generalization error when training neural network models for computer vision problems. \n",
    "A range of techniques are supported, as well as pixel scaling methods. Some of the most commn are: \n",
    "\n",
    "- Image shifts via the width_shift_range and height_shift_range arguments.\n",
    "- Image flips via the horizontal_flip and vertical_flip arguments.\n",
    "- Image rotations via the rotation_range argument\n",
    "- Image brightness via the brightness_range argument.\n",
    "- Image zoom via the zoom_range argument.\n",
    "\n",
    "\n",
    "Let's see it with an example:\n"
   ]
  },
  {
   "cell_type": "code",
   "execution_count": 29,
   "metadata": {},
   "outputs": [
    {
     "name": "stderr",
     "output_type": "stream",
     "text": [
      "/usr/local/lib/python3.5/dist-packages/keras_preprocessing/image.py:1131: UserWarning: This ImageDataGenerator specifies `featurewise_center`, but it hasn't been fit on any training data. Fit it first by calling `.fit(numpy_data)`.\n",
      "  warnings.warn('This ImageDataGenerator specifies '\n",
      "/usr/local/lib/python3.5/dist-packages/keras_preprocessing/image.py:1139: UserWarning: This ImageDataGenerator specifies `featurewise_std_normalization`, but it hasn't been fit on any training data. Fit it first by calling `.fit(numpy_data)`.\n",
      "  warnings.warn('This ImageDataGenerator specifies '\n"
     ]
    },
    {
     "data": {
      "image/png": "[encoded data removed]",
      "text/plain": [
       "<Figure size 432x288 with 9 Axes>"
      ]
     },
     "metadata": {},
     "output_type": "display_data"
    }
   ],
   "source": [
    "# expand dimension to one sample\n",
    "from numpy import expand_dims\n",
    "from tensorflow.keras.preprocessing.image import ImageDataGenerator\n",
    "data = trainX[0]*255\n",
    "samples = expand_dims(data, 0)\n",
    "# create image data augmentation generator\n",
    "datagen = ImageDataGenerator(horizontal_flip=True, \n",
    "                             featurewise_center=True,\n",
    "                             featurewise_std_normalization=True,\n",
    "                             rotation_range=20,\n",
    "                             width_shift_range=0.2,\n",
    "                             height_shift_range=0.2)\n",
    "\n",
    "# prepare iterator\n",
    "it = datagen.flow(samples, batch_size=1)\n",
    "# generate samples and plot\n",
    "for i in range(9):\n",
    "    # define subplot\n",
    "    plt.subplot(330 + 1 + i)\n",
    "    # generate batch of images\n",
    "    batch = it.next()\n",
    "    # convert to unsigned integers for viewing\n",
    "    image = batch[0].astype('uint8')\n",
    "    # plot raw pixel data\n",
    "    plt.imshow(image)\n",
    "# show the figure\n",
    "plt.show()"
   ]
  },
  {
   "cell_type": "code",
   "execution_count": 30,
   "metadata": {},
   "outputs": [
    {
     "data": {
      "text/plain": [
       "(1, 32, 32, 3)"
      ]
     },
     "execution_count": 30,
     "metadata": {},
     "output_type": "execute_result"
    }
   ],
   "source": [
    "batch.shape"
   ]
  },
  {
   "cell_type": "markdown",
   "metadata": {},
   "source": [
    "<font color=red>Evaluate the model with data augmentation <br> Hint: Use the ?model.fit_generator command and please take into acount the parameters of the model.fit_generator: It needs to include: epochs, steps_per_epoch and a generator (i.e: a flow of images). </font>"
   ]
  },
  {
   "cell_type": "code",
   "execution_count": null,
   "metadata": {},
   "outputs": [],
   "source": [
    "# fit and evaluate a defined model\n",
    "def evaluate_model_increased(model, trainX, trainY, testX, testY):\n",
    "    datagen = ImageDataGenerator(horizontal_flip=True)\n",
    "    # in case there is mean/std to normalize\n",
    "    datagen.fit(trainX)\n",
    "\n",
    "    # Fit the model on the batches generated by datagen.flow().\n",
    "    generator = datagen.flow(trainX, trainY,\n",
    "                             batch_size=batch_size)\n",
    "    model.fit_generator(...\n",
    "                        verbose = 0)\n",
    "    \n",
    "    # evaluate model\n",
    "    ...\n",
    "    \n",
    "    return acc\n",
    "\n",
    "# repeatedly evaluate model, return distribution of scores\n",
    "def repeated_evaluation_increased(trainX, trainY, testX, testY, repeats=10):\n",
    "    scores = list()\n",
    "    for _ in range(repeats):\n",
    "        # define model\n",
    "        ...\n",
    "        # fit and evaluate model\n",
    "        ...\n",
    "        # store score\n",
    "        ...\n",
    "    return scores\n",
    "\n",
    "# evaluate model\n",
    "scores = repeated_evaluation_increased(trainX, trainY, testX, testY)\n",
    "# summarize result\n",
    "..."
   ]
  },
  {
   "cell_type": "markdown",
   "metadata": {},
   "source": [
    "### Test Time augmentation (TTA)\n",
    "\n",
    "The image data augmentation technique can also be applied when making predictions with a fit model in order to allow the model to make predictions for multiple different versions of each image in the test dataset. Specifically, it involves creating multiple augmented copies of each image in the test set, having the model make a prediction for each, then returning an ensemble of those predictions.(e.g: majority voting in case of classification)\n",
    "\n",
    "Augmentations are chosen to give the model the best opportunity for correctly classifying a given image, and the number of copies of an image for which a model must make a prediction is often small, such as less than 10 or 20. Often, a single simple test-time augmentation is performed, such as a shift, crop, or image flip."
   ]
  },
  {
   "cell_type": "markdown",
   "metadata": {},
   "source": [
    "<font color=red>Evaluate the model with data augmentation. <b>Please note on this case we are not going to use the generateor on training, but on testing.</b> <br> Hint: Use the model.predict_generator function </font>"
   ]
  },
  {
   "cell_type": "code",
   "execution_count": null,
   "metadata": {},
   "outputs": [],
   "source": [
    "# make a prediction using test-time augmentation\n",
    "def prediction_augmented_on_test(datagen, model, image, n_examples):\n",
    "    # convert image into dataset\n",
    "    samples = expand_dims(image, 0)\n",
    "    # prepare iterator\n",
    "    it = datagen.flow(samples, batch_size=n_examples)\n",
    "    # make predictions for each augmented image and return the maj voted class\n",
    "    ...\n",
    "\n",
    "# evaluate a model on a dataset using test-time augmentation\n",
    "def evaluate_model_test_time_agumented(model, testX, testY):\n",
    "    # configure image data augmentation\n",
    "    datagen = ImageDataGenerator(horizontal_flip=True)\n",
    "    # define the number of augmented images to generate per test set image\n",
    "    yhats = list()\n",
    "    for i in range(len(testX)):\n",
    "        # augment prediction per test image\n",
    "        \n",
    "    # calculate accuracy\n",
    "    testY_labels = ...\n",
    "    acc = accuracy_score(testY_labels, yhats)\n",
    "    return acc\n",
    "\n",
    "def evaluate_model_test_augmented(model, trainX, trainY, testX, testY):\n",
    "    # fit model wih no generator\n",
    "    ...\n",
    "    # evaluate model\n",
    "    acc = ...\n",
    "    return acc\n",
    "\n",
    "def evaluate_test_augmented(trainX, trainY, testX, testY, repeats=10):\n",
    "    scores = list()\n",
    "    for _ in range(repeats):\n",
    "        # define model\n",
    "        model = define_model()\n",
    "        # fit and evaluate model\n",
    "        ...\n",
    "        # store score\n",
    "        ...\n",
    "    return scores\n",
    "\n",
    "\n",
    "# evaluate model\n",
    "...\n"
   ]
  },
  {
   "cell_type": "code",
   "execution_count": null,
   "metadata": {},
   "outputs": [],
   "source": []
  }
 ],
 "metadata": {
  "kernelspec": {
   "display_name": "Python 3",
   "language": "python",
   "name": "python3"
  },
  "language_info": {
   "codemirror_mode": {
    "name": "ipython",
    "version": 3
   },
   "file_extension": ".py",
   "mimetype": "text/x-python",
   "name": "python",
   "nbconvert_exporter": "python",
   "pygments_lexer": "ipython3",
   "version": "3.6.9"
  }
 },
 "nbformat": 4,
 "nbformat_minor": 2
}
